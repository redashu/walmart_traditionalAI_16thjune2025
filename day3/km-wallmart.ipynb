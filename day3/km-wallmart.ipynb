{
 "cells": [
  {
   "cell_type": "code",
   "execution_count": 1,
   "id": "a7e76191-0fca-49c3-942e-c8a6bb306bc7",
   "metadata": {},
   "outputs": [],
   "source": [
    "import pandas as pd\n",
    "from sklearn.preprocessing import StandardScaler\n",
    "from sklearn.cluster import KMeans\n",
    "import matplotlib.pyplot as plt\n",
    "import seaborn as sb"
   ]
  },
  {
   "cell_type": "code",
   "execution_count": 2,
   "id": "4d475f50-ab02-4b05-96be-3a6c36acbf5a",
   "metadata": {},
   "outputs": [],
   "source": [
    "# data url \n",
    "data_url=\"https://raw.githubusercontent.com/redashu/Datasets/refs/heads/master/walmart_store_sample_data.csv\""
   ]
  },
  {
   "cell_type": "code",
   "execution_count": 3,
   "id": "82ef1dde-dbed-4817-99b8-e0461c713ef4",
   "metadata": {},
   "outputs": [],
   "source": [
    "df=pd.read_csv(data_url)"
   ]
  },
  {
   "cell_type": "code",
   "execution_count": 4,
   "id": "725c10ec-693d-49d5-9bea-3776e18f38a9",
   "metadata": {},
   "outputs": [
    {
     "name": "stdout",
     "output_type": "stream",
     "text": [
      "<class 'pandas.core.frame.DataFrame'>\n",
      "RangeIndex: 2000 entries, 0 to 1999\n",
      "Data columns (total 3 columns):\n",
      " #   Column            Non-Null Count  Dtype\n",
      "---  ------            --------------  -----\n",
      " 0   Store_Size        2000 non-null   int64\n",
      " 1   Monthly_Footfall  2000 non-null   int64\n",
      " 2   Income_Level      2000 non-null   int64\n",
      "dtypes: int64(3)\n",
      "memory usage: 47.0 KB\n"
     ]
    }
   ],
   "source": [
    "df.info()"
   ]
  },
  {
   "cell_type": "code",
   "execution_count": 6,
   "id": "4e474047-1ceb-485d-b4fb-0db34d333bc6",
   "metadata": {},
   "outputs": [],
   "source": [
    "# if data is having featues like store and department IDs \n",
    "# for now it is optional step \n",
    "my_features = ['Store_Size','Monthly_Footfall','Income_Level']\n",
    "data = df[my_features]"
   ]
  },
  {
   "cell_type": "code",
   "execution_count": 7,
   "id": "71fb0fb4-b39c-4044-9414-271d366c054d",
   "metadata": {},
   "outputs": [
    {
     "data": {
      "text/html": [
       "<div>\n",
       "<style scoped>\n",
       "    .dataframe tbody tr th:only-of-type {\n",
       "        vertical-align: middle;\n",
       "    }\n",
       "\n",
       "    .dataframe tbody tr th {\n",
       "        vertical-align: top;\n",
       "    }\n",
       "\n",
       "    .dataframe thead th {\n",
       "        text-align: right;\n",
       "    }\n",
       "</style>\n",
       "<table border=\"1\" class=\"dataframe\">\n",
       "  <thead>\n",
       "    <tr style=\"text-align: right;\">\n",
       "      <th></th>\n",
       "      <th>Store_Size</th>\n",
       "      <th>Monthly_Footfall</th>\n",
       "      <th>Income_Level</th>\n",
       "    </tr>\n",
       "  </thead>\n",
       "  <tbody>\n",
       "    <tr>\n",
       "      <th>0</th>\n",
       "      <td>34967</td>\n",
       "      <td>3649</td>\n",
       "      <td>42047</td>\n",
       "    </tr>\n",
       "    <tr>\n",
       "      <th>1</th>\n",
       "      <td>28617</td>\n",
       "      <td>4710</td>\n",
       "      <td>54531</td>\n",
       "    </tr>\n",
       "    <tr>\n",
       "      <th>2</th>\n",
       "      <td>36476</td>\n",
       "      <td>3415</td>\n",
       "      <td>55270</td>\n",
       "    </tr>\n",
       "    <tr>\n",
       "      <th>3</th>\n",
       "      <td>45230</td>\n",
       "      <td>4384</td>\n",
       "      <td>62089</td>\n",
       "    </tr>\n",
       "    <tr>\n",
       "      <th>4</th>\n",
       "      <td>27658</td>\n",
       "      <td>1212</td>\n",
       "      <td>34497</td>\n",
       "    </tr>\n",
       "  </tbody>\n",
       "</table>\n",
       "</div>"
      ],
      "text/plain": [
       "   Store_Size  Monthly_Footfall  Income_Level\n",
       "0       34967              3649         42047\n",
       "1       28617              4710         54531\n",
       "2       36476              3415         55270\n",
       "3       45230              4384         62089\n",
       "4       27658              1212         34497"
      ]
     },
     "execution_count": 7,
     "metadata": {},
     "output_type": "execute_result"
    }
   ],
   "source": [
    "data.head()"
   ]
  },
  {
   "cell_type": "code",
   "execution_count": 8,
   "id": "f4688354-8144-467e-8dd4-01df66a59613",
   "metadata": {},
   "outputs": [
    {
     "name": "stdout",
     "output_type": "stream",
     "text": [
      "[[ 0.45755178 -0.67482034 -0.816591  ]\n",
      " [-0.18827211 -0.14235693  0.01661357]\n",
      " [ 0.61102395 -0.79225337  0.06593575]\n",
      " ...\n",
      " [-0.94454713 -0.31850647 -1.17092319]\n",
      " [-0.21349483  1.65226057  0.51637613]\n",
      " [-0.80531361  0.36501396 -1.12373674]]\n"
     ]
    }
   ],
   "source": [
    "sc=StandardScaler()\n",
    "scaled_data=sc.fit_transform(data)\n",
    "print(scaled_data)"
   ]
  },
  {
   "cell_type": "code",
   "execution_count": 9,
   "id": "6b8742a8-601b-4189-a80b-37334bc91641",
   "metadata": {},
   "outputs": [],
   "source": [
    "# so we can call KMeans algo with clustering k=3 or (tune it with Elbow method)\n",
    "km=KMeans(n_clusters=3)"
   ]
  },
  {
   "cell_type": "code",
   "execution_count": 11,
   "id": "db34c8e7-2d3c-44e0-9d5a-2ff54ccad313",
   "metadata": {},
   "outputs": [],
   "source": [
    "# we can do fit and predict in single line also \n",
    "df['cluster']=km.fit_predict(scaled_data)"
   ]
  },
  {
   "cell_type": "code",
   "execution_count": 12,
   "id": "c86631e8-afbb-4de4-bba2-a1775fb437e6",
   "metadata": {},
   "outputs": [
    {
     "data": {
      "text/html": [
       "<div>\n",
       "<style scoped>\n",
       "    .dataframe tbody tr th:only-of-type {\n",
       "        vertical-align: middle;\n",
       "    }\n",
       "\n",
       "    .dataframe tbody tr th {\n",
       "        vertical-align: top;\n",
       "    }\n",
       "\n",
       "    .dataframe thead th {\n",
       "        text-align: right;\n",
       "    }\n",
       "</style>\n",
       "<table border=\"1\" class=\"dataframe\">\n",
       "  <thead>\n",
       "    <tr style=\"text-align: right;\">\n",
       "      <th></th>\n",
       "      <th>Store_Size</th>\n",
       "      <th>Monthly_Footfall</th>\n",
       "      <th>Income_Level</th>\n",
       "      <th>cluster</th>\n",
       "    </tr>\n",
       "  </thead>\n",
       "  <tbody>\n",
       "    <tr>\n",
       "      <th>0</th>\n",
       "      <td>34967</td>\n",
       "      <td>3649</td>\n",
       "      <td>42047</td>\n",
       "      <td>1</td>\n",
       "    </tr>\n",
       "    <tr>\n",
       "      <th>1</th>\n",
       "      <td>28617</td>\n",
       "      <td>4710</td>\n",
       "      <td>54531</td>\n",
       "      <td>1</td>\n",
       "    </tr>\n",
       "    <tr>\n",
       "      <th>2</th>\n",
       "      <td>36476</td>\n",
       "      <td>3415</td>\n",
       "      <td>55270</td>\n",
       "      <td>0</td>\n",
       "    </tr>\n",
       "    <tr>\n",
       "      <th>3</th>\n",
       "      <td>45230</td>\n",
       "      <td>4384</td>\n",
       "      <td>62089</td>\n",
       "      <td>0</td>\n",
       "    </tr>\n",
       "    <tr>\n",
       "      <th>4</th>\n",
       "      <td>27658</td>\n",
       "      <td>1212</td>\n",
       "      <td>34497</td>\n",
       "      <td>1</td>\n",
       "    </tr>\n",
       "  </tbody>\n",
       "</table>\n",
       "</div>"
      ],
      "text/plain": [
       "   Store_Size  Monthly_Footfall  Income_Level  cluster\n",
       "0       34967              3649         42047        1\n",
       "1       28617              4710         54531        1\n",
       "2       36476              3415         55270        0\n",
       "3       45230              4384         62089        0\n",
       "4       27658              1212         34497        1"
      ]
     },
     "execution_count": 12,
     "metadata": {},
     "output_type": "execute_result"
    }
   ],
   "source": [
    "df.head()"
   ]
  },
  {
   "cell_type": "code",
   "execution_count": 14,
   "id": "920e7f04-c148-4fd5-b099-d37d9f38ff0f",
   "metadata": {},
   "outputs": [
    {
     "data": {
      "text/html": [
       "<div>\n",
       "<style scoped>\n",
       "    .dataframe tbody tr th:only-of-type {\n",
       "        vertical-align: middle;\n",
       "    }\n",
       "\n",
       "    .dataframe tbody tr th {\n",
       "        vertical-align: top;\n",
       "    }\n",
       "\n",
       "    .dataframe thead th {\n",
       "        text-align: right;\n",
       "    }\n",
       "</style>\n",
       "<table border=\"1\" class=\"dataframe\">\n",
       "  <thead>\n",
       "    <tr style=\"text-align: right;\">\n",
       "      <th></th>\n",
       "      <th>Store_Size</th>\n",
       "      <th>Monthly_Footfall</th>\n",
       "      <th>Income_Level</th>\n",
       "    </tr>\n",
       "    <tr>\n",
       "      <th>cluster</th>\n",
       "      <th></th>\n",
       "      <th></th>\n",
       "      <th></th>\n",
       "    </tr>\n",
       "  </thead>\n",
       "  <tbody>\n",
       "    <tr>\n",
       "      <th>0</th>\n",
       "      <td>40882.12</td>\n",
       "      <td>4883.79</td>\n",
       "      <td>57105.23</td>\n",
       "    </tr>\n",
       "    <tr>\n",
       "      <th>1</th>\n",
       "      <td>26162.40</td>\n",
       "      <td>3895.24</td>\n",
       "      <td>43717.29</td>\n",
       "    </tr>\n",
       "    <tr>\n",
       "      <th>2</th>\n",
       "      <td>24854.77</td>\n",
       "      <td>6376.50</td>\n",
       "      <td>63634.59</td>\n",
       "    </tr>\n",
       "  </tbody>\n",
       "</table>\n",
       "</div>"
      ],
      "text/plain": [
       "         Store_Size  Monthly_Footfall  Income_Level\n",
       "cluster                                            \n",
       "0          40882.12           4883.79      57105.23\n",
       "1          26162.40           3895.24      43717.29\n",
       "2          24854.77           6376.50      63634.59"
      ]
     },
     "execution_count": 14,
     "metadata": {},
     "output_type": "execute_result"
    }
   ],
   "source": [
    "# we can do some analysis using dataframe also \n",
    "df.groupby('cluster')[my_features].mean().round(2)"
   ]
  },
  {
   "cell_type": "code",
   "execution_count": 15,
   "id": "f87fbca7-b2db-4fcf-bb23-6006b3da4db8",
   "metadata": {},
   "outputs": [],
   "source": [
    "# lets map cluster to human readable for\n",
    "cluster_map = {\n",
    "    0: \"Balanced Store\",\n",
    "    1: \"Budget Store\",\n",
    "    2: \"Premium Store\"\n",
    "}"
   ]
  },
  {
   "cell_type": "code",
   "execution_count": 16,
   "id": "94c2c9e3-b211-499b-9f91-8c4a956828cc",
   "metadata": {},
   "outputs": [],
   "source": [
    "df['cluster_label']=df['cluster'].map(cluster_map)"
   ]
  },
  {
   "cell_type": "code",
   "execution_count": 17,
   "id": "7e641883-311b-415a-a638-381f9b3c2a16",
   "metadata": {},
   "outputs": [
    {
     "data": {
      "text/html": [
       "<div>\n",
       "<style scoped>\n",
       "    .dataframe tbody tr th:only-of-type {\n",
       "        vertical-align: middle;\n",
       "    }\n",
       "\n",
       "    .dataframe tbody tr th {\n",
       "        vertical-align: top;\n",
       "    }\n",
       "\n",
       "    .dataframe thead th {\n",
       "        text-align: right;\n",
       "    }\n",
       "</style>\n",
       "<table border=\"1\" class=\"dataframe\">\n",
       "  <thead>\n",
       "    <tr style=\"text-align: right;\">\n",
       "      <th></th>\n",
       "      <th>Store_Size</th>\n",
       "      <th>Monthly_Footfall</th>\n",
       "      <th>Income_Level</th>\n",
       "      <th>cluster</th>\n",
       "      <th>cluster_label</th>\n",
       "    </tr>\n",
       "  </thead>\n",
       "  <tbody>\n",
       "    <tr>\n",
       "      <th>0</th>\n",
       "      <td>34967</td>\n",
       "      <td>3649</td>\n",
       "      <td>42047</td>\n",
       "      <td>1</td>\n",
       "      <td>Budget Store</td>\n",
       "    </tr>\n",
       "    <tr>\n",
       "      <th>1</th>\n",
       "      <td>28617</td>\n",
       "      <td>4710</td>\n",
       "      <td>54531</td>\n",
       "      <td>1</td>\n",
       "      <td>Budget Store</td>\n",
       "    </tr>\n",
       "    <tr>\n",
       "      <th>2</th>\n",
       "      <td>36476</td>\n",
       "      <td>3415</td>\n",
       "      <td>55270</td>\n",
       "      <td>0</td>\n",
       "      <td>Balanced Store</td>\n",
       "    </tr>\n",
       "    <tr>\n",
       "      <th>3</th>\n",
       "      <td>45230</td>\n",
       "      <td>4384</td>\n",
       "      <td>62089</td>\n",
       "      <td>0</td>\n",
       "      <td>Balanced Store</td>\n",
       "    </tr>\n",
       "    <tr>\n",
       "      <th>4</th>\n",
       "      <td>27658</td>\n",
       "      <td>1212</td>\n",
       "      <td>34497</td>\n",
       "      <td>1</td>\n",
       "      <td>Budget Store</td>\n",
       "    </tr>\n",
       "  </tbody>\n",
       "</table>\n",
       "</div>"
      ],
      "text/plain": [
       "   Store_Size  Monthly_Footfall  Income_Level  cluster   cluster_label\n",
       "0       34967              3649         42047        1    Budget Store\n",
       "1       28617              4710         54531        1    Budget Store\n",
       "2       36476              3415         55270        0  Balanced Store\n",
       "3       45230              4384         62089        0  Balanced Store\n",
       "4       27658              1212         34497        1    Budget Store"
      ]
     },
     "execution_count": 17,
     "metadata": {},
     "output_type": "execute_result"
    }
   ],
   "source": [
    "df.head()"
   ]
  },
  {
   "cell_type": "code",
   "execution_count": null,
   "id": "d24356f9-1775-49c0-85e2-b9c261a25dc9",
   "metadata": {},
   "outputs": [],
   "source": [
    "# Home work do the Visualization by plotting \n",
    "# Store_Size vs Monthly_Footfall and decicde Centroids\n",
    "# fRom km you can find cer"
   ]
  }
 ],
 "metadata": {
  "kernelspec": {
   "display_name": "Python 3 (ipykernel)",
   "language": "python",
   "name": "python3"
  },
  "language_info": {
   "codemirror_mode": {
    "name": "ipython",
    "version": 3
   },
   "file_extension": ".py",
   "mimetype": "text/x-python",
   "name": "python",
   "nbconvert_exporter": "python",
   "pygments_lexer": "ipython3",
   "version": "3.12.3"
  }
 },
 "nbformat": 4,
 "nbformat_minor": 5
}
